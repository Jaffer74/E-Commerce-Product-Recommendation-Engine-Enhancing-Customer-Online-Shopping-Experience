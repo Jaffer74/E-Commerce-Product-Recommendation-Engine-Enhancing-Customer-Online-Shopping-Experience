{
  "nbformat": 4,
  "nbformat_minor": 0,
  "metadata": {
    "colab": {
      "provenance": []
    },
    "kernelspec": {
      "name": "python3",
      "display_name": "Python 3"
    },
    "language_info": {
      "name": "python"
    }
  },
  "cells": [
    {
      "cell_type": "code",
      "execution_count": 1,
      "metadata": {
        "colab": {
          "base_uri": "https://localhost:8080/",
          "height": 403
        },
        "id": "oBMpxd8iLVc9",
        "outputId": "fd7c32c3-3ba4-4d95-a58b-0a024a24c658"
      },
      "outputs": [
        {
          "output_type": "display_data",
          "data": {
            "text/plain": [
              "<IPython.core.display.HTML object>"
            ],
            "text/html": [
              "\n",
              "     <input type=\"file\" id=\"files-cf4061d5-65bb-4dd6-90e6-d8d687e56a02\" name=\"files[]\" multiple disabled\n",
              "        style=\"border:none\" />\n",
              "     <output id=\"result-cf4061d5-65bb-4dd6-90e6-d8d687e56a02\">\n",
              "      Upload widget is only available when the cell has been executed in the\n",
              "      current browser session. Please rerun this cell to enable.\n",
              "      </output>\n",
              "      <script>// Copyright 2017 Google LLC\n",
              "//\n",
              "// Licensed under the Apache License, Version 2.0 (the \"License\");\n",
              "// you may not use this file except in compliance with the License.\n",
              "// You may obtain a copy of the License at\n",
              "//\n",
              "//      http://www.apache.org/licenses/LICENSE-2.0\n",
              "//\n",
              "// Unless required by applicable law or agreed to in writing, software\n",
              "// distributed under the License is distributed on an \"AS IS\" BASIS,\n",
              "// WITHOUT WARRANTIES OR CONDITIONS OF ANY KIND, either express or implied.\n",
              "// See the License for the specific language governing permissions and\n",
              "// limitations under the License.\n",
              "\n",
              "/**\n",
              " * @fileoverview Helpers for google.colab Python module.\n",
              " */\n",
              "(function(scope) {\n",
              "function span(text, styleAttributes = {}) {\n",
              "  const element = document.createElement('span');\n",
              "  element.textContent = text;\n",
              "  for (const key of Object.keys(styleAttributes)) {\n",
              "    element.style[key] = styleAttributes[key];\n",
              "  }\n",
              "  return element;\n",
              "}\n",
              "\n",
              "// Max number of bytes which will be uploaded at a time.\n",
              "const MAX_PAYLOAD_SIZE = 100 * 1024;\n",
              "\n",
              "function _uploadFiles(inputId, outputId) {\n",
              "  const steps = uploadFilesStep(inputId, outputId);\n",
              "  const outputElement = document.getElementById(outputId);\n",
              "  // Cache steps on the outputElement to make it available for the next call\n",
              "  // to uploadFilesContinue from Python.\n",
              "  outputElement.steps = steps;\n",
              "\n",
              "  return _uploadFilesContinue(outputId);\n",
              "}\n",
              "\n",
              "// This is roughly an async generator (not supported in the browser yet),\n",
              "// where there are multiple asynchronous steps and the Python side is going\n",
              "// to poll for completion of each step.\n",
              "// This uses a Promise to block the python side on completion of each step,\n",
              "// then passes the result of the previous step as the input to the next step.\n",
              "function _uploadFilesContinue(outputId) {\n",
              "  const outputElement = document.getElementById(outputId);\n",
              "  const steps = outputElement.steps;\n",
              "\n",
              "  const next = steps.next(outputElement.lastPromiseValue);\n",
              "  return Promise.resolve(next.value.promise).then((value) => {\n",
              "    // Cache the last promise value to make it available to the next\n",
              "    // step of the generator.\n",
              "    outputElement.lastPromiseValue = value;\n",
              "    return next.value.response;\n",
              "  });\n",
              "}\n",
              "\n",
              "/**\n",
              " * Generator function which is called between each async step of the upload\n",
              " * process.\n",
              " * @param {string} inputId Element ID of the input file picker element.\n",
              " * @param {string} outputId Element ID of the output display.\n",
              " * @return {!Iterable<!Object>} Iterable of next steps.\n",
              " */\n",
              "function* uploadFilesStep(inputId, outputId) {\n",
              "  const inputElement = document.getElementById(inputId);\n",
              "  inputElement.disabled = false;\n",
              "\n",
              "  const outputElement = document.getElementById(outputId);\n",
              "  outputElement.innerHTML = '';\n",
              "\n",
              "  const pickedPromise = new Promise((resolve) => {\n",
              "    inputElement.addEventListener('change', (e) => {\n",
              "      resolve(e.target.files);\n",
              "    });\n",
              "  });\n",
              "\n",
              "  const cancel = document.createElement('button');\n",
              "  inputElement.parentElement.appendChild(cancel);\n",
              "  cancel.textContent = 'Cancel upload';\n",
              "  const cancelPromise = new Promise((resolve) => {\n",
              "    cancel.onclick = () => {\n",
              "      resolve(null);\n",
              "    };\n",
              "  });\n",
              "\n",
              "  // Wait for the user to pick the files.\n",
              "  const files = yield {\n",
              "    promise: Promise.race([pickedPromise, cancelPromise]),\n",
              "    response: {\n",
              "      action: 'starting',\n",
              "    }\n",
              "  };\n",
              "\n",
              "  cancel.remove();\n",
              "\n",
              "  // Disable the input element since further picks are not allowed.\n",
              "  inputElement.disabled = true;\n",
              "\n",
              "  if (!files) {\n",
              "    return {\n",
              "      response: {\n",
              "        action: 'complete',\n",
              "      }\n",
              "    };\n",
              "  }\n",
              "\n",
              "  for (const file of files) {\n",
              "    const li = document.createElement('li');\n",
              "    li.append(span(file.name, {fontWeight: 'bold'}));\n",
              "    li.append(span(\n",
              "        `(${file.type || 'n/a'}) - ${file.size} bytes, ` +\n",
              "        `last modified: ${\n",
              "            file.lastModifiedDate ? file.lastModifiedDate.toLocaleDateString() :\n",
              "                                    'n/a'} - `));\n",
              "    const percent = span('0% done');\n",
              "    li.appendChild(percent);\n",
              "\n",
              "    outputElement.appendChild(li);\n",
              "\n",
              "    const fileDataPromise = new Promise((resolve) => {\n",
              "      const reader = new FileReader();\n",
              "      reader.onload = (e) => {\n",
              "        resolve(e.target.result);\n",
              "      };\n",
              "      reader.readAsArrayBuffer(file);\n",
              "    });\n",
              "    // Wait for the data to be ready.\n",
              "    let fileData = yield {\n",
              "      promise: fileDataPromise,\n",
              "      response: {\n",
              "        action: 'continue',\n",
              "      }\n",
              "    };\n",
              "\n",
              "    // Use a chunked sending to avoid message size limits. See b/62115660.\n",
              "    let position = 0;\n",
              "    do {\n",
              "      const length = Math.min(fileData.byteLength - position, MAX_PAYLOAD_SIZE);\n",
              "      const chunk = new Uint8Array(fileData, position, length);\n",
              "      position += length;\n",
              "\n",
              "      const base64 = btoa(String.fromCharCode.apply(null, chunk));\n",
              "      yield {\n",
              "        response: {\n",
              "          action: 'append',\n",
              "          file: file.name,\n",
              "          data: base64,\n",
              "        },\n",
              "      };\n",
              "\n",
              "      let percentDone = fileData.byteLength === 0 ?\n",
              "          100 :\n",
              "          Math.round((position / fileData.byteLength) * 100);\n",
              "      percent.textContent = `${percentDone}% done`;\n",
              "\n",
              "    } while (position < fileData.byteLength);\n",
              "  }\n",
              "\n",
              "  // All done.\n",
              "  yield {\n",
              "    response: {\n",
              "      action: 'complete',\n",
              "    }\n",
              "  };\n",
              "}\n",
              "\n",
              "scope.google = scope.google || {};\n",
              "scope.google.colab = scope.google.colab || {};\n",
              "scope.google.colab._files = {\n",
              "  _uploadFiles,\n",
              "  _uploadFilesContinue,\n",
              "};\n",
              "})(self);\n",
              "</script> "
            ]
          },
          "metadata": {}
        },
        {
          "output_type": "stream",
          "name": "stdout",
          "text": [
            "Saving kaggle.json to kaggle.json\n",
            "Requirement already satisfied: kaggle in /usr/local/lib/python3.10/dist-packages (1.6.17)\n",
            "Requirement already satisfied: six>=1.10 in /usr/local/lib/python3.10/dist-packages (from kaggle) (1.16.0)\n",
            "Requirement already satisfied: certifi>=2023.7.22 in /usr/local/lib/python3.10/dist-packages (from kaggle) (2024.8.30)\n",
            "Requirement already satisfied: python-dateutil in /usr/local/lib/python3.10/dist-packages (from kaggle) (2.8.2)\n",
            "Requirement already satisfied: requests in /usr/local/lib/python3.10/dist-packages (from kaggle) (2.32.3)\n",
            "Requirement already satisfied: tqdm in /usr/local/lib/python3.10/dist-packages (from kaggle) (4.66.6)\n",
            "Requirement already satisfied: python-slugify in /usr/local/lib/python3.10/dist-packages (from kaggle) (8.0.4)\n",
            "Requirement already satisfied: urllib3 in /usr/local/lib/python3.10/dist-packages (from kaggle) (2.2.3)\n",
            "Requirement already satisfied: bleach in /usr/local/lib/python3.10/dist-packages (from kaggle) (6.2.0)\n",
            "Requirement already satisfied: webencodings in /usr/local/lib/python3.10/dist-packages (from bleach->kaggle) (0.5.1)\n",
            "Requirement already satisfied: text-unidecode>=1.3 in /usr/local/lib/python3.10/dist-packages (from python-slugify->kaggle) (1.3)\n",
            "Requirement already satisfied: charset-normalizer<4,>=2 in /usr/local/lib/python3.10/dist-packages (from requests->kaggle) (3.4.0)\n",
            "Requirement already satisfied: idna<4,>=2.5 in /usr/local/lib/python3.10/dist-packages (from requests->kaggle) (3.10)\n",
            "Dataset URL: https://www.kaggle.com/datasets/saurav9786/amazon-product-reviews\n",
            "License(s): unknown\n",
            "Downloading amazon-product-reviews.zip to /content\n",
            " 93% 102M/109M [00:00<00:00, 128MB/s] \n",
            "100% 109M/109M [00:00<00:00, 131MB/s]\n",
            "/bin/bash: line 1: dataset-name: No such file or directory\n"
          ]
        }
      ],
      "source": [
        "import os\n",
        "from google.colab import files\n",
        "import json\n",
        "\n",
        "# Step 1: Upload Kaggle API Token\n",
        "uploaded = files.upload()\n",
        "\n",
        "# Save the uploaded file to ~/.kaggle/kaggle.json\n",
        "os.makedirs(\"~/.kaggle\", exist_ok=True)\n",
        "with open(\"~/.kaggle/kaggle.json\", \"w\") as f:\n",
        "    json.dump(json.load(open(list(uploaded.keys())[0])), f)\n",
        "\n",
        "# Set permissions for the Kaggle API token\n",
        "os.chmod(\"~/.kaggle/kaggle.json\", 600)\n",
        "\n",
        "# Step 2: Install Kaggle package\n",
        "!pip install kaggle\n",
        "\n",
        "# Step 3: Define Dataset Path or Dataset Name\n",
        "dataset_path = \"saurav9786/amazon-product-reviews\"  # Replace this with the dataset path or name\n",
        "\n",
        "# Step 4: Download Dataset from Kaggle (using the dataset path)\n",
        "!kaggle datasets download -d {dataset_path}  # Replace {dataset_path} with the correct dataset path\n",
        "\n",
        "# Step 5: Unzip the Dataset\n",
        "dataset_filename = \"<dataset-name>.zip\"  # Replace with your dataset's zip filename\n",
        "!unzip -q {dataset_filename}  # Unzips the downloaded dataset file\n"
      ]
    },
    {
      "cell_type": "code",
      "source": [
        "import zipfile\n",
        "\n",
        "# Path to the uploaded zip file\n",
        "zip_file_path = '/content/amazon-product-reviews.zip'\n",
        "\n",
        "# Unzipping the file\n",
        "with zipfile.ZipFile(zip_file_path, 'r') as zip_ref:\n",
        "    zip_ref.extractall('/content/')  # Specify the directory where to unzip\n",
        "\n",
        "print(f\"Unzipped {zip_file_path} to /content/\")\n"
      ],
      "metadata": {
        "colab": {
          "base_uri": "https://localhost:8080/"
        },
        "id": "YA0aNvq8LZxf",
        "outputId": "3d10bf89-2d70-4828-cfef-f35a40aa9e44"
      },
      "execution_count": 2,
      "outputs": [
        {
          "output_type": "stream",
          "name": "stdout",
          "text": [
            "Unzipped /content/amazon-product-reviews.zip to /content/\n"
          ]
        }
      ]
    },
    {
      "cell_type": "code",
      "source": [
        "import pandas as pd"
      ],
      "metadata": {
        "id": "SsxQcT2jLZ14"
      },
      "execution_count": 3,
      "outputs": []
    },
    {
      "cell_type": "code",
      "source": [
        "df = pd.read_csv(\"/content/ratings_Electronics (1).csv\",\n",
        "                             names=['userId', 'productId','rating','timestamp'])"
      ],
      "metadata": {
        "id": "4xeVOMeALZ5K"
      },
      "execution_count": 4,
      "outputs": []
    },
    {
      "cell_type": "code",
      "source": [
        "print(\"Total Reviews:\",df.shape[0])\n",
        "print(\"Total Columns:\",df.shape[1])"
      ],
      "metadata": {
        "colab": {
          "base_uri": "https://localhost:8080/"
        },
        "id": "Ky1VX00hLjER",
        "outputId": "346aa7af-a61e-4b9a-b09d-7663b1ae6063"
      },
      "execution_count": 5,
      "outputs": [
        {
          "output_type": "stream",
          "name": "stdout",
          "text": [
            "Total Reviews: 7824482\n",
            "Total Columns: 4\n"
          ]
        }
      ]
    },
    {
      "cell_type": "code",
      "source": [
        "!pip install pyspark py4j"
      ],
      "metadata": {
        "colab": {
          "base_uri": "https://localhost:8080/"
        },
        "id": "K-dlyerMLjGb",
        "outputId": "c1019c14-3769-4cfc-f3de-b6f7663ed98f"
      },
      "execution_count": 7,
      "outputs": [
        {
          "output_type": "stream",
          "name": "stdout",
          "text": [
            "Requirement already satisfied: pyspark in /usr/local/lib/python3.10/dist-packages (3.5.3)\n",
            "Requirement already satisfied: py4j in /usr/local/lib/python3.10/dist-packages (0.10.9.7)\n"
          ]
        }
      ]
    },
    {
      "cell_type": "code",
      "source": [
        "from pyspark.sql import SparkSession"
      ],
      "metadata": {
        "id": "5OnE1cZ3LjIR"
      },
      "execution_count": 8,
      "outputs": []
    },
    {
      "cell_type": "code",
      "source": [
        "spark=SparkSession.builder.appName(\"test_pyspark\").getOrCreate()"
      ],
      "metadata": {
        "id": "3HrYMmo9LjLw"
      },
      "execution_count": 9,
      "outputs": []
    },
    {
      "cell_type": "code",
      "source": [
        "# Convert pandas DataFrame to PySpark DataFrame\n",
        "df_spark = spark.createDataFrame(df)\n",
        "\n",
        "# Show the schema and the first few rows\n",
        "df_spark.printSchema()\n",
        "df_spark.show(5)\n"
      ],
      "metadata": {
        "colab": {
          "base_uri": "https://localhost:8080/"
        },
        "id": "FdwAH556L2Or",
        "outputId": "52dd0537-71af-4abc-ffb4-fd7966c9df00"
      },
      "execution_count": 12,
      "outputs": [
        {
          "output_type": "stream",
          "name": "stdout",
          "text": [
            "root\n",
            " |-- userId: string (nullable = true)\n",
            " |-- productId: string (nullable = true)\n",
            " |-- rating: double (nullable = true)\n",
            " |-- timestamp: long (nullable = true)\n",
            "\n",
            "+--------------+----------+------+----------+\n",
            "|        userId| productId|rating| timestamp|\n",
            "+--------------+----------+------+----------+\n",
            "| AKM1MP6P0OYPR|0132793040|   5.0|1365811200|\n",
            "|A2CX7LUOHB2NDG|0321732944|   5.0|1341100800|\n",
            "|A2NWSAGRHCP8N5|0439886341|   1.0|1367193600|\n",
            "|A2WNBOD3WNDNKT|0439886341|   3.0|1374451200|\n",
            "|A1GI0U4ZRJA8WN|0439886341|   1.0|1334707200|\n",
            "+--------------+----------+------+----------+\n",
            "only showing top 5 rows\n",
            "\n"
          ]
        }
      ]
    },
    {
      "cell_type": "code",
      "source": [
        "# Get the total number of rows in a PySpark DataFrame\n",
        "num_rows = df_spark.count()\n",
        "print(\"Total Reviews:\", num_rows)\n"
      ],
      "metadata": {
        "colab": {
          "base_uri": "https://localhost:8080/"
        },
        "id": "90fG_kJlL2Qo",
        "outputId": "744ba92a-0a7b-44ed-9b82-cd4573566498"
      },
      "execution_count": 13,
      "outputs": [
        {
          "output_type": "stream",
          "name": "stdout",
          "text": [
            "Total Reviews: 5000\n"
          ]
        }
      ]
    },
    {
      "cell_type": "code",
      "source": [
        "# Get the total number of columns in a PySpark DataFrame\n",
        "num_columns = len(df_spark.columns)\n",
        "print(\"Total Columns:\", num_columns)\n"
      ],
      "metadata": {
        "colab": {
          "base_uri": "https://localhost:8080/"
        },
        "id": "zXwGgJleL2UC",
        "outputId": "862702a5-c348-433d-dd89-981634d07d89"
      },
      "execution_count": 14,
      "outputs": [
        {
          "output_type": "stream",
          "name": "stdout",
          "text": [
            "Total Columns: 4\n"
          ]
        }
      ]
    },
    {
      "cell_type": "code",
      "source": [
        "# Total number of unique ratings\n",
        "num_ratings = df_spark.select(\"rating\").distinct().count()\n",
        "print(\"Total number of ratings:\", num_ratings)\n",
        "\n",
        "# Total number of unique users\n",
        "num_users = df_spark.select(\"userId\").distinct().count()\n",
        "print(\"Total number of users:\", num_users)\n",
        "\n",
        "# Total number of unique products\n",
        "num_products = df_spark.select(\"productId\").distinct().count()\n",
        "print(\"Total number of products:\", num_products)\n"
      ],
      "metadata": {
        "colab": {
          "base_uri": "https://localhost:8080/"
        },
        "id": "SZ01cOskMgUC",
        "outputId": "ef89dcae-ed91-426b-baaf-c9ff5a07959c"
      },
      "execution_count": 15,
      "outputs": [
        {
          "output_type": "stream",
          "name": "stdout",
          "text": [
            "Total number of ratings: 5\n",
            "Total number of users: 4929\n",
            "Total number of products: 299\n"
          ]
        }
      ]
    },
    {
      "cell_type": "code",
      "source": [
        "df_spark.printSchema()\n"
      ],
      "metadata": {
        "colab": {
          "base_uri": "https://localhost:8080/"
        },
        "id": "2r09wWZMMgXl",
        "outputId": "f0731359-d8b6-4806-c5b5-34d8709494ab"
      },
      "execution_count": 16,
      "outputs": [
        {
          "output_type": "stream",
          "name": "stdout",
          "text": [
            "root\n",
            " |-- userId: string (nullable = true)\n",
            " |-- productId: string (nullable = true)\n",
            " |-- rating: double (nullable = true)\n",
            " |-- timestamp: long (nullable = true)\n",
            "\n"
          ]
        }
      ]
    },
    {
      "cell_type": "code",
      "source": [
        "from pyspark.sql.functions import col, sum\n",
        "\n",
        "# Calculate the number of null values in each column\n",
        "null_counts = df_spark.select([sum(col(c).isNull().cast(\"int\")).alias(c) for c in df_spark.columns])\n",
        "\n",
        "# Show the result\n",
        "null_counts.show()\n"
      ],
      "metadata": {
        "colab": {
          "base_uri": "https://localhost:8080/"
        },
        "id": "sa9G8rbOMtda",
        "outputId": "7117ceb4-582c-4fe7-9344-62454ccde958"
      },
      "execution_count": 17,
      "outputs": [
        {
          "output_type": "stream",
          "name": "stdout",
          "text": [
            "+------+---------+------+---------+\n",
            "|userId|productId|rating|timestamp|\n",
            "+------+---------+------+---------+\n",
            "|     0|        0|     0|        0|\n",
            "+------+---------+------+---------+\n",
            "\n"
          ]
        }
      ]
    },
    {
      "cell_type": "code",
      "source": [
        "# Check for duplicate rows in the DataFrame\n",
        "duplicates_count = df_spark.count() - df_spark.dropDuplicates().count()\n",
        "\n",
        "# If the count of duplicates is greater than 0, there are duplicate rows\n",
        "if duplicates_count > 0:\n",
        "    print(f\"There are {duplicates_count} duplicate rows.\")\n",
        "else:\n",
        "    print(\"No duplicate rows found.\")\n"
      ],
      "metadata": {
        "colab": {
          "base_uri": "https://localhost:8080/"
        },
        "id": "Yx_53_5bMtgU",
        "outputId": "ed9a4140-a343-40b8-9d69-c0d8926f9f24"
      },
      "execution_count": 18,
      "outputs": [
        {
          "output_type": "stream",
          "name": "stdout",
          "text": [
            "No duplicate rows found.\n"
          ]
        }
      ]
    },
    {
      "cell_type": "code",
      "source": [
        "# Get a summary of the 'rating' column\n",
        "df_spark.describe('rating').show()\n"
      ],
      "metadata": {
        "colab": {
          "base_uri": "https://localhost:8080/"
        },
        "id": "I5Hwh8pdMtir",
        "outputId": "aa6a5281-b586-4a30-ff1c-0a2efd812440"
      },
      "execution_count": 19,
      "outputs": [
        {
          "output_type": "stream",
          "name": "stdout",
          "text": [
            "+-------+------------------+\n",
            "|summary|            rating|\n",
            "+-------+------------------+\n",
            "|  count|              5000|\n",
            "|   mean|            3.9866|\n",
            "| stddev|1.4118141109284759|\n",
            "|    min|               1.0|\n",
            "|    max|               5.0|\n",
            "+-------+------------------+\n",
            "\n"
          ]
        }
      ]
    },
    {
      "cell_type": "code",
      "source": [
        "# Get unique values of the 'rating' column\n",
        "unique_ratings = df_spark.select(\"rating\").distinct().collect()\n",
        "\n",
        "# Print the unique values\n",
        "print(\"Unique values of Rating:\", [row['rating'] for row in unique_ratings])\n"
      ],
      "metadata": {
        "colab": {
          "base_uri": "https://localhost:8080/"
        },
        "id": "aVExi3jeMtl6",
        "outputId": "9367bb1d-66f8-4e2b-8450-5b2a6c7ce32e"
      },
      "execution_count": 20,
      "outputs": [
        {
          "output_type": "stream",
          "name": "stdout",
          "text": [
            "Unique values of Rating: [1.0, 4.0, 3.0, 2.0, 5.0]\n"
          ]
        }
      ]
    },
    {
      "cell_type": "code",
      "source": [
        "# Find the minimum and maximum ratings\n",
        "min_rating = df_spark.agg({\"rating\": \"min\"}).collect()[0][0]\n",
        "max_rating = df_spark.agg({\"rating\": \"max\"}).collect()[0][0]\n",
        "\n",
        "# Print the results\n",
        "print('Minimum rating is:', min_rating)\n",
        "print('Maximum rating is:', max_rating)\n"
      ],
      "metadata": {
        "colab": {
          "base_uri": "https://localhost:8080/"
        },
        "id": "WB00FUGhMttF",
        "outputId": "4b0c4d3c-f7ae-4c01-911f-69119395b00a"
      },
      "execution_count": 21,
      "outputs": [
        {
          "output_type": "stream",
          "name": "stdout",
          "text": [
            "Minimum rating is: 1.0\n",
            "Maximum rating is: 5.0\n"
          ]
        }
      ]
    },
    {
      "cell_type": "code",
      "source": [
        "from pyspark.sql import functions as F\n",
        "\n",
        "# Group by 'productId' and calculate average rating and rating count\n",
        "ratings = df_spark.groupBy('productId') \\\n",
        "    .agg(\n",
        "        F.avg('rating').alias('ratings_average'),  # Average rating\n",
        "        F.count('rating').alias('ratings_count')   # Count of ratings\n",
        "    )\n",
        "\n",
        "# Show the first 10 rows\n",
        "ratings.show(10)\n"
      ],
      "metadata": {
        "colab": {
          "base_uri": "https://localhost:8080/"
        },
        "id": "1-5Lp98EMtu4",
        "outputId": "03b4d503-1a8f-428a-ba49-ee1daa504ca6"
      },
      "execution_count": 22,
      "outputs": [
        {
          "output_type": "stream",
          "name": "stdout",
          "text": [
            "+----------+------------------+-------------+\n",
            "| productId|   ratings_average|ratings_count|\n",
            "+----------+------------------+-------------+\n",
            "|0528881469|2.8518518518518516|           27|\n",
            "|1400532620|3.6842105263157894|          171|\n",
            "|0594450705|               5.0|            1|\n",
            "|0777700018|               5.0|            2|\n",
            "|1400501474| 4.448275862068965|           29|\n",
            "|0594033896|               4.4|            5|\n",
            "|0977703037|               4.0|            1|\n",
            "|0970407998|               3.2|            5|\n",
            "|0594450209|               5.0|            2|\n",
            "|0594287995|               5.0|            1|\n",
            "+----------+------------------+-------------+\n",
            "only showing top 10 rows\n",
            "\n"
          ]
        }
      ]
    },
    {
      "cell_type": "code",
      "source": [
        "# Show the first 5 rows of the DataFrame\n",
        "df_spark.show(5)\n"
      ],
      "metadata": {
        "colab": {
          "base_uri": "https://localhost:8080/"
        },
        "id": "w7UJ81ZcMtwa",
        "outputId": "43aaecef-b89c-4d1c-d154-4a82532ae106"
      },
      "execution_count": 23,
      "outputs": [
        {
          "output_type": "stream",
          "name": "stdout",
          "text": [
            "+--------------+----------+------+----------+\n",
            "|        userId| productId|rating| timestamp|\n",
            "+--------------+----------+------+----------+\n",
            "| AKM1MP6P0OYPR|0132793040|   5.0|1365811200|\n",
            "|A2CX7LUOHB2NDG|0321732944|   5.0|1341100800|\n",
            "|A2NWSAGRHCP8N5|0439886341|   1.0|1367193600|\n",
            "|A2WNBOD3WNDNKT|0439886341|   3.0|1374451200|\n",
            "|A1GI0U4ZRJA8WN|0439886341|   1.0|1334707200|\n",
            "+--------------+----------+------+----------+\n",
            "only showing top 5 rows\n",
            "\n"
          ]
        }
      ]
    },
    {
      "cell_type": "code",
      "source": [
        "import matplotlib.pyplot as plt  # Import the pyplot submodule\n",
        "\n",
        "# Check column names in the DataFrame to make sure 'rating' exists\n",
        "print(df_spark.columns)  # Print the column names\n",
        "\n",
        "# Collect the ratings data into a Pandas DataFrame\n",
        "ratings_pd = df_spark.toPandas()\n",
        "\n",
        "# Verify the first few rows to see the 'rating' column\n",
        "print(ratings_pd.head())\n",
        "\n",
        "# Create a figure with the specified size\n",
        "plt.figure(figsize=(10, 4))\n",
        "\n",
        "# Plot the histogram of the 'rating' column\n",
        "ratings_pd['rating'].hist(bins=70)\n",
        "\n",
        "# Add labels and title\n",
        "plt.title('Histogram of Ratings')\n",
        "plt.xlabel('Rating')\n",
        "plt.ylabel('Frequency')\n",
        "\n",
        "# Show the plot\n",
        "plt.show()\n"
      ],
      "metadata": {
        "colab": {
          "base_uri": "https://localhost:8080/",
          "height": 532
        },
        "id": "tVzK9Dw7Mtz5",
        "outputId": "f77f3ea3-7b00-45a1-9eb7-2fa64df8a072"
      },
      "execution_count": 26,
      "outputs": [
        {
          "output_type": "stream",
          "name": "stdout",
          "text": [
            "['userId', 'productId', 'rating', 'timestamp']\n",
            "           userId   productId  rating   timestamp\n",
            "0   AKM1MP6P0OYPR  0132793040     5.0  1365811200\n",
            "1  A2CX7LUOHB2NDG  0321732944     5.0  1341100800\n",
            "2  A2NWSAGRHCP8N5  0439886341     1.0  1367193600\n",
            "3  A2WNBOD3WNDNKT  0439886341     3.0  1374451200\n",
            "4  A1GI0U4ZRJA8WN  0439886341     1.0  1334707200\n"
          ]
        },
        {
          "output_type": "display_data",
          "data": {
            "text/plain": [
              "<Figure size 1000x400 with 1 Axes>"
            ],
            "image/png": "[encoded data removed]"
          },
          "metadata": {}
        }
      ]
    },
    {
      "cell_type": "code",
      "source": [
        "import seaborn as sns\n",
        "import matplotlib.pyplot as plt\n",
        "\n",
        "# Step 1: Convert Spark DataFrame to Pandas DataFrame\n",
        "df_spark_pd = df_spark.toPandas()\n",
        "\n",
        "# Step 2: Create a jointplot (example: between 'userId' and 'rating')\n",
        "sns.jointplot(x='userId', y='rating', data=df_spark_pd, kind='scatter')  # You can change kind to 'hex' or 'kde'\n",
        "\n",
        "# Step 3: Display the plot\n",
        "plt.show()\n"
      ],
      "metadata": {
        "colab": {
          "base_uri": "https://localhost:8080/",
          "height": 607
        },
        "id": "Uw1B9RkKNuuZ",
        "outputId": "39a6c896-df60-4abc-d281-b5af2a2e5639"
      },
      "execution_count": 27,
      "outputs": [
        {
          "output_type": "display_data",
          "data": {
            "text/plain": [
              "<Figure size 600x600 with 3 Axes>"
            ],
            "image/png": "[encoded data removed]"
          },
          "metadata": {}
        }
      ]
    },
    {
      "cell_type": "code",
      "source": [
        "import seaborn as sns\n",
        "import matplotlib.pyplot as plt\n",
        "from pyspark.sql import functions as F\n",
        "\n",
        "# Step 1: Aggregating the ratings data using PySpark\n",
        "ratings_spark = df_spark.groupBy(\"productId\") \\\n",
        "    .agg(\n",
        "        F.avg(\"rating\").alias(\"rating\"),  # average rating\n",
        "        F.count(\"rating\").alias(\"ratings_count\")  # count of ratings\n",
        "    )\n",
        "\n",
        "# Step 2: Convert the aggregated PySpark DataFrame to a Pandas DataFrame\n",
        "ratings_pd = ratings_spark.toPandas()\n",
        "\n",
        "# Step 3: Create a Seaborn jointplot\n",
        "sns.jointplot(x='rating', y='ratings_count', data=ratings_pd, alpha=0.5)\n",
        "\n",
        "# Step 4: Show the plot\n",
        "plt.show()\n"
      ],
      "metadata": {
        "colab": {
          "base_uri": "https://localhost:8080/",
          "height": 607
        },
        "id": "mOlIDtGNN2zb",
        "outputId": "b953c352-2163-4577-a005-20ae9b71a4c7"
      },
      "execution_count": 28,
      "outputs": [
        {
          "output_type": "display_data",
          "data": {
            "text/plain": [
              "<Figure size 600x600 with 3 Axes>"
            ],
            "image/png": "[encoded data removed]"
          },
          "metadata": {}
        }
      ]
    },
    {
      "cell_type": "code",
      "source": [
        "#ALGORITHMS USING PYSPARK"
      ],
      "metadata": {
        "id": "CphS_jFPN226"
      },
      "execution_count": null,
      "outputs": []
    },
    {
      "cell_type": "code",
      "source": [
        "# Split into train and test (80-20 split)\n",
        "train_data, test_data = df_spark.randomSplit([0.8, 0.2], seed=1234)\n"
      ],
      "metadata": {
        "id": "9t6Zw8H1OZ0O"
      },
      "execution_count": 29,
      "outputs": []
    },
    {
      "cell_type": "code",
      "source": [
        "#knnwithpyspark\n",
        "import time\n",
        "import pandas as pd\n",
        "from pyspark.ml.feature import StringIndexer\n",
        "from pyspark.ml import Pipeline\n",
        "from sklearn.neighbors import KNeighborsRegressor  # For rating prediction (regression)\n",
        "from sklearn.metrics import accuracy_score, precision_score, recall_score, f1_score, confusion_matrix\n",
        "import seaborn as sns\n",
        "import matplotlib.pyplot as plt\n",
        "\n",
        "# Step 1: Drop the existing columns if they exist\n",
        "df_spark = df_spark.drop(\"userIndex\", \"productIndex\")\n",
        "\n",
        "# Step 2: Index categorical columns (userId and productId)\n",
        "user_indexer = StringIndexer(inputCol=\"userId\", outputCol=\"userIndex\")\n",
        "product_indexer = StringIndexer(inputCol=\"productId\", outputCol=\"productIndex\")\n",
        "\n",
        "# Step 3: Define a Pipeline to apply the transformations\n",
        "pipeline = Pipeline(stages=[user_indexer, product_indexer])\n",
        "\n",
        "# Step 4: Fit and transform the pipeline on the DataFrame\n",
        "df_spark = pipeline.fit(df_spark).transform(df_spark)\n",
        "\n",
        "# Step 5: Check the schema to verify the new columns (userIndex, productIndex) are added\n",
        "df_spark.printSchema()\n",
        "\n",
        "# Step 6: Select features and target (rating)\n",
        "df_features = df_spark.select(\"userIndex\", \"productIndex\", \"rating\")\n",
        "\n",
        "# Step 7: Split data into training and testing sets (80% train, 20% test)\n",
        "train_data, test_data = df_features.randomSplit([0.8, 0.2], seed=1234)\n",
        "\n",
        "# Step 8: Convert to pandas DataFrame for use with scikit-learn\n",
        "train_pd = train_data.toPandas()\n",
        "X_train = train_pd[[\"userIndex\", \"productIndex\"]]\n",
        "y_train = train_pd[\"rating\"]\n",
        "\n",
        "# Step 9: Initialize KNN Regressor (for rating prediction)\n",
        "knn = KNeighborsRegressor(n_neighbors=5)\n",
        "\n",
        "# Step 10: Train the model\n",
        "knn.fit(X_train, y_train)\n",
        "\n",
        "# Step 11: Evaluate the model on the test set\n",
        "test_pd = test_data.toPandas()\n",
        "X_test = test_pd[[\"userIndex\", \"productIndex\"]]\n",
        "y_test = test_pd[\"rating\"]\n",
        "\n",
        "# Start the timer to measure execution time\n",
        "start_time = time.time()\n",
        "\n",
        "# Step 12: Make predictions\n",
        "y_pred = knn.predict(X_test)\n",
        "\n",
        "# Step 13: Convert predictions and actuals to binary for classification metrics\n",
        "threshold = 3  # Ratings >= 3 as positive (1), < 3 as negative (0)\n",
        "y_pred_binary = [1 if rating >= threshold else 0 for rating in y_pred]\n",
        "y_test_binary = [1 if rating >= threshold else 0 for rating in y_test]\n",
        "\n",
        "# Step 14: Calculate Accuracy, Precision, Recall, F1 Score\n",
        "accuracy = accuracy_score(y_test_binary, y_pred_binary)\n",
        "precision = precision_score(y_test_binary, y_pred_binary, zero_division=0)\n",
        "recall = recall_score(y_test_binary, y_pred_binary, zero_division=0)\n",
        "f1 = f1_score(y_test_binary, y_pred_binary, zero_division=0)\n",
        "\n",
        "# Step 15: Print the classification metrics\n",
        "print(f\"Accuracy: {accuracy:.4f}\")\n",
        "print(f\"Precision: {precision:.4f}\")\n",
        "print(f\"Recall: {recall:.4f}\")\n",
        "print(f\"F1 Score: {f1:.4f}\")\n",
        "\n",
        "# Step 16: Calculate and print the confusion matrix\n",
        "cm = confusion_matrix(y_test_binary, y_pred_binary)\n",
        "print(\"Confusion Matrix:\")\n",
        "print(cm)\n",
        "\n",
        "# Plot Confusion Matrix as a Heatmap\n",
        "plt.figure(figsize=(8, 6))\n",
        "sns.heatmap(cm, annot=True, fmt='d', cmap=\"Blues\", xticklabels=[\"Negative\", \"Positive\"], yticklabels=[\"Negative\", \"Positive\"])\n",
        "plt.xlabel('Predicted')\n",
        "plt.ylabel('Actual')\n",
        "plt.title('Confusion Matrix Heatmap')\n",
        "plt.show()\n",
        "\n",
        "# End the timer after execution\n",
        "end_time = time.time()\n",
        "\n",
        "# Calculate the total time taken for the execution\n",
        "execution_time = end_time - start_time\n",
        "\n",
        "# Print the execution time\n",
        "print(f\"Total execution time: {execution_time:.4f} seconds\")\n"
      ],
      "metadata": {
        "colab": {
          "base_uri": "https://localhost:8080/",
          "height": 842
        },
        "id": "f9kJdJ4qOZ2r",
        "outputId": "bcfc74f4-a009-4099-8bd6-7871a3272cb0"
      },
      "execution_count": 30,
      "outputs": [
        {
          "output_type": "stream",
          "name": "stdout",
          "text": [
            "root\n",
            " |-- userId: string (nullable = true)\n",
            " |-- productId: string (nullable = true)\n",
            " |-- rating: double (nullable = true)\n",
            " |-- timestamp: long (nullable = true)\n",
            " |-- userIndex: double (nullable = false)\n",
            " |-- productIndex: double (nullable = false)\n",
            "\n",
            "Accuracy: 0.7684\n",
            "Precision: 0.8121\n",
            "Recall: 0.9284\n",
            "F1 Score: 0.8663\n",
            "Confusion Matrix:\n",
            "[[ 17 168]\n",
            " [ 56 726]]\n"
          ]
        },
        {
          "output_type": "display_data",
          "data": {
            "text/plain": [
              "<Figure size 800x600 with 2 Axes>"
            ],
            "image/png": "[encoded data removed]"
          },
          "metadata": {}
        },
        {
          "output_type": "stream",
          "name": "stdout",
          "text": [
            "Total execution time: 0.6343 seconds\n"
          ]
        }
      ]
    },
    {
      "cell_type": "code",
      "source": [
        "# Function to make a prediction for a given user and product\n",
        "def predict_rating(user_id, product_id):\n",
        "    # Convert userId and productId to their respective indices\n",
        "    user_index = df_spark.filter(df_spark.userId == user_id).select(\"userIndex\").first()[0]\n",
        "    product_index = df_spark.filter(df_spark.productId == product_id).select(\"productIndex\").first()[0]\n",
        "\n",
        "    # Create a DataFrame with the indices for the given user and product\n",
        "    input_data = pd.DataFrame([[user_index, product_index]], columns=[\"userIndex\", \"productIndex\"])\n",
        "\n",
        "    # Predict the rating using the trained KNN model\n",
        "    predicted_rating = knn.predict(input_data)\n",
        "\n",
        "    # Return the predicted rating\n",
        "    return predicted_rating[0]\n",
        "\n",
        "# Example Usage: Predict the rating for a specific user and product\n",
        "user_id = \"A3LDPF5FMB782Z\"  # Replace with the user ID you want to predict for\n",
        "product_id = \"1400501520\"    # Replace with the product ID you want to predict for\n",
        "\n",
        "predicted_rating = predict_rating(user_id, product_id)\n",
        "print(f\"Predicted rating for user {user_id} and product {product_id}: {predicted_rating:.4f}\")\n"
      ],
      "metadata": {
        "colab": {
          "base_uri": "https://localhost:8080/"
        },
        "id": "FmTf1phROZ4z",
        "outputId": "cd1ce5ec-f518-48c9-c2d1-e3b4bc0209ed"
      },
      "execution_count": 31,
      "outputs": [
        {
          "output_type": "stream",
          "name": "stdout",
          "text": [
            "Predicted rating for user A3LDPF5FMB782Z and product 1400501520: 4.0000\n"
          ]
        }
      ]
    },
    {
      "cell_type": "code",
      "source": [],
      "metadata": {
        "id": "BOtM1hIzOj25"
      },
      "execution_count": null,
      "outputs": []
    },
    {
      "cell_type": "code",
      "source": [
        "#linear regression with pyspark\n",
        "import time\n",
        "import pandas as pd\n",
        "import numpy as np\n",
        "from pyspark.ml.feature import StringIndexer, VectorAssembler\n",
        "from pyspark.ml import Pipeline\n",
        "from pyspark.ml.regression import LinearRegression\n",
        "from sklearn.metrics import accuracy_score, precision_score, recall_score, f1_score, confusion_matrix\n",
        "import seaborn as sns\n",
        "import matplotlib.pyplot as plt\n",
        "\n",
        "# Drop the existing columns if they exist\n",
        "df_spark = df_spark.drop(\"userIndex\", \"productIndex\")\n",
        "\n",
        "# Step 1: Index categorical columns (userId and productId)\n",
        "user_indexer = StringIndexer(inputCol=\"userId\", outputCol=\"userIndex\")\n",
        "product_indexer = StringIndexer(inputCol=\"productId\", outputCol=\"productIndex\")\n",
        "\n",
        "# Step 2: Define a Pipeline to apply the transformations\n",
        "pipeline = Pipeline(stages=[user_indexer, product_indexer])\n",
        "\n",
        "# Step 3: Fit and transform the pipeline on the DataFrame\n",
        "df_spark = pipeline.fit(df_spark).transform(df_spark)\n",
        "\n",
        "# Step 4: Check the schema to verify the new columns (userIndex, productIndex) are added\n",
        "df_spark.printSchema()\n",
        "\n",
        "# Step 5: Select features and target (rating)\n",
        "df_features = df_spark.select(\"userIndex\", \"productIndex\", \"rating\")\n",
        "\n",
        "# Step 6: Split data into training and testing sets (80% train, 20% test)\n",
        "train_data, test_data = df_features.randomSplit([0.8, 0.2], seed=1234)\n",
        "\n",
        "# Step 7: Prepare the features (combine userIndex and productIndex into a single vector column)\n",
        "assembler = VectorAssembler(inputCols=[\"userIndex\", \"productIndex\"], outputCol=\"features\")\n",
        "train_data = assembler.transform(train_data)\n",
        "test_data = assembler.transform(test_data)\n",
        "\n",
        "# Step 8: Define and train a Linear Regression model\n",
        "lr = LinearRegression(featuresCol=\"features\", labelCol=\"rating\")\n",
        "lr_model = lr.fit(train_data)\n",
        "\n",
        "# Start the timer to measure execution time\n",
        "start_time = time.time()\n",
        "\n",
        "# Step 9: Make predictions on the test set\n",
        "predictions = lr_model.transform(test_data)\n",
        "\n",
        "# Step 10: Convert the predicted ratings and actual ratings into binary for classification\n",
        "threshold = 3  # Ratings >= 3 as positive (1), < 3 as negative (0)\n",
        "y_pred_binary = [1 if rating >= threshold else 0 for rating in predictions.select(\"prediction\").toPandas()[\"prediction\"]]\n",
        "y_test_binary = [1 if rating >= threshold else 0 for rating in predictions.select(\"rating\").toPandas()[\"rating\"]]\n",
        "\n",
        "# Step 11: Calculate Accuracy, Precision, Recall, F1 Score\n",
        "accuracy = accuracy_score(y_test_binary, y_pred_binary)\n",
        "precision = precision_score(y_test_binary, y_pred_binary, zero_division=0)\n",
        "recall = recall_score(y_test_binary, y_pred_binary, zero_division=0)\n",
        "f1 = f1_score(y_test_binary, y_pred_binary, zero_division=0)\n",
        "\n",
        "# Step 12: Print the classification metrics\n",
        "print(f\"Accuracy: {accuracy:.4f}\")\n",
        "print(f\"Precision: {precision:.4f}\")\n",
        "print(f\"Recall: {recall:.4f}\")\n",
        "print(f\"F1 Score: {f1:.4f}\")\n",
        "\n",
        "# Step 13: Calculate and print the confusion matrix\n",
        "cm = confusion_matrix(y_test_binary, y_pred_binary)\n",
        "print(\"Confusion Matrix:\")\n",
        "print(cm)\n",
        "\n",
        "# Plot Confusion Matrix as a Heatmap\n",
        "plt.figure(figsize=(8, 6))\n",
        "sns.heatmap(cm, annot=True, fmt='d', cmap=\"Blues\", xticklabels=[\"Negative\", \"Positive\"], yticklabels=[\"Negative\", \"Positive\"])\n",
        "plt.xlabel('Predicted')\n",
        "plt.ylabel('Actual')\n",
        "plt.title('Confusion Matrix Heatmap')\n",
        "plt.show()\n",
        "\n",
        "# End the timer after execution\n",
        "end_time = time.time()\n",
        "\n",
        "# Calculate the total time taken for the execution\n",
        "execution_time = end_time - start_time\n",
        "\n",
        "# Print the execution time\n",
        "print(f\"Total execution time: {execution_time:.4f} seconds\")\n"
      ],
      "metadata": {
        "colab": {
          "base_uri": "https://localhost:8080/",
          "height": 842
        },
        "id": "sL-4UVpiOj5P",
        "outputId": "71656240-810f-4103-e546-98393ef10408"
      },
      "execution_count": 32,
      "outputs": [
        {
          "output_type": "stream",
          "name": "stdout",
          "text": [
            "root\n",
            " |-- userId: string (nullable = true)\n",
            " |-- productId: string (nullable = true)\n",
            " |-- rating: double (nullable = true)\n",
            " |-- timestamp: long (nullable = true)\n",
            " |-- userIndex: double (nullable = false)\n",
            " |-- productIndex: double (nullable = false)\n",
            "\n",
            "Accuracy: 0.8087\n",
            "Precision: 0.8087\n",
            "Recall: 1.0000\n",
            "F1 Score: 0.8942\n",
            "Confusion Matrix:\n",
            "[[  0 185]\n",
            " [  0 782]]\n"
          ]
        },
        {
          "output_type": "display_data",
          "data": {
            "text/plain": [
              "<Figure size 800x600 with 2 Axes>"
            ],
            "image/png": "[encoded data removed]"
          },
          "metadata": {}
        },
        {
          "output_type": "stream",
          "name": "stdout",
          "text": [
            "Total execution time: 2.9548 seconds\n"
          ]
        }
      ]
    },
    {
      "cell_type": "code",
      "source": [
        "# Function to make a prediction for a given user and product\n",
        "def predict_rating(user_id, product_id):\n",
        "    # Convert userId and productId to their respective indices\n",
        "    user_index = df_spark.filter(df_spark.userId == user_id).select(\"userIndex\").first()[0]\n",
        "    product_index = df_spark.filter(df_spark.productId == product_id).select(\"productIndex\").first()[0]\n",
        "\n",
        "    # Create a DataFrame with the indices for the given user and product\n",
        "    input_data = pd.DataFrame([[user_index, product_index]], columns=[\"userIndex\", \"productIndex\"])\n",
        "\n",
        "    # Predict the rating using the trained KNN model\n",
        "    predicted_rating = knn.predict(input_data)\n",
        "\n",
        "    # Return the predicted rating\n",
        "    return predicted_rating[0]\n",
        "\n",
        "# Example Usage: Predict the rating for a specific user and product\n",
        "user_id = \"A3LDPF5FMB782Z\"  # Replace with the user ID you want to predict for\n",
        "product_id = \"1400501520\"    # Replace with the product ID you want to predict for\n",
        "\n",
        "predicted_rating = predict_rating(user_id, product_id)\n",
        "print(f\"Predicted rating for user {user_id} and product {product_id}: {predicted_rating:.4f}\")\n"
      ],
      "metadata": {
        "colab": {
          "base_uri": "https://localhost:8080/"
        },
        "id": "YW5o2LZWOj73",
        "outputId": "eec453ba-aa36-4884-aeac-ef82329187dc"
      },
      "execution_count": 33,
      "outputs": [
        {
          "output_type": "stream",
          "name": "stdout",
          "text": [
            "Predicted rating for user A3LDPF5FMB782Z and product 1400501520: 4.0000\n"
          ]
        }
      ]
    },
    {
      "cell_type": "code",
      "source": [],
      "metadata": {
        "id": "a-ntfi6nOj_l"
      },
      "execution_count": null,
      "outputs": []
    },
    {
      "cell_type": "code",
      "source": [],
      "metadata": {
        "id": "jJBU5ZU8OkBh"
      },
      "execution_count": null,
      "outputs": []
    },
    {
      "cell_type": "code",
      "source": [
        "#nmf with pysoapk\n",
        "import time\n",
        "from pyspark.ml.feature import StringIndexer, VectorAssembler\n",
        "from pyspark.ml import Pipeline\n",
        "import pandas as pd\n",
        "import numpy as np\n",
        "from sklearn.decomposition import NMF\n",
        "from sklearn.metrics import accuracy_score, precision_score, recall_score, f1_score, confusion_matrix\n",
        "import seaborn as sns\n",
        "import matplotlib.pyplot as plt\n",
        "\n",
        "# Start time for execution\n",
        "start_time = time.time()\n",
        "\n",
        "# Step 1: Drop existing userIndex, productIndex, and features if they exist\n",
        "df_spark = df_spark.drop(\"userIndex\", \"productIndex\", \"features\")\n",
        "\n",
        "# Step 2: Index the categorical columns (userId and productId)\n",
        "user_indexer = StringIndexer(inputCol=\"userId\", outputCol=\"userIndex\")\n",
        "product_indexer = StringIndexer(inputCol=\"productId\", outputCol=\"productIndex\")\n",
        "\n",
        "# Step 3: Define a Pipeline to apply transformations\n",
        "pipeline = Pipeline(stages=[user_indexer, product_indexer])\n",
        "df_spark = pipeline.fit(df_spark).transform(df_spark)\n",
        "\n",
        "# Step 4: Prepare the features (combine userIndex and productIndex into a single vector column)\n",
        "assembler = VectorAssembler(inputCols=[\"userIndex\", \"productIndex\"], outputCol=\"features\")\n",
        "df_spark = assembler.transform(df_spark)\n",
        "\n",
        "# Step 5: Create the user-item matrix for NMF\n",
        "user_item_matrix = df_spark.select(\"userIndex\", \"productIndex\", \"rating\").toPandas()\n",
        "user_item_matrix_pivot = user_item_matrix.pivot(index=\"userIndex\", columns=\"productIndex\", values=\"rating\").fillna(0)\n",
        "\n",
        "# Step 6: Apply NMF using scikit-learn\n",
        "nmf = NMF(n_components=3, random_state=1)  # You can change the number of components\n",
        "W = nmf.fit_transform(user_item_matrix_pivot)\n",
        "H = nmf.components_\n",
        "\n",
        "# Step 7: Reconstruct the predicted matrix\n",
        "reconstructed_matrix = np.dot(W, H)\n",
        "\n",
        "# Step 8: Convert the reconstructed matrix back to a DataFrame\n",
        "predictions_df = pd.DataFrame(reconstructed_matrix, columns=user_item_matrix_pivot.columns)\n",
        "\n",
        "# Step 9: Convert the predictions to binary (threshold 3 and above as positive)\n",
        "threshold = 3\n",
        "y_pred_binary = (predictions_df >= threshold).astype(int)\n",
        "\n",
        "# Step 10: Prepare the actual ratings for comparison (considering threshold for binary)\n",
        "y_test_binary = (user_item_matrix_pivot >= threshold).astype(int)\n",
        "\n",
        "# Step 11: Calculate evaluation metrics\n",
        "accuracy = accuracy_score(y_test_binary.values.flatten(), y_pred_binary.values.flatten())\n",
        "precision = precision_score(y_test_binary.values.flatten(), y_pred_binary.values.flatten(), average=\"binary\")\n",
        "recall = recall_score(y_test_binary.values.flatten(), y_pred_binary.values.flatten(), average=\"binary\")\n",
        "f1 = f1_score(y_test_binary.values.flatten(), y_pred_binary.values.flatten(), average=\"binary\")\n",
        "\n",
        "# Step 12: Print the evaluation metrics\n",
        "print(f\"Accuracy: {accuracy:.4f}\")\n",
        "print(f\"Precision: {precision:.4f}\")\n",
        "print(f\"Recall: {recall:.4f}\")\n",
        "print(f\"F1 Score: {f1:.4f}\")\n",
        "\n",
        "# Step 13: Calculate and print the confusion matrix\n",
        "cm = confusion_matrix(y_test_binary.values.flatten(), y_pred_binary.values.flatten())\n",
        "print(\"Confusion Matrix:\")\n",
        "print(cm)\n",
        "\n",
        "# Step 14: Plot Confusion Matrix as a Heatmap\n",
        "plt.figure(figsize=(8,6))\n",
        "sns.heatmap(cm, annot=True, fmt='d', cmap=\"Blues\", xticklabels=[\"Negative\", \"Positive\"], yticklabels=[\"Negative\", \"Positive\"])\n",
        "plt.xlabel('Predicted')\n",
        "plt.ylabel('Actual')\n",
        "plt.title('Confusion Matrix Heatmap')\n",
        "plt.show()\n",
        "\n",
        "# End time for execution\n",
        "end_time = time.time()\n",
        "\n",
        "# Print execution time\n",
        "execution_time = end_time - start_time\n",
        "print(f\"Execution Time: {execution_time:.4f} seconds\")\n"
      ],
      "metadata": {
        "colab": {
          "base_uri": "https://localhost:8080/",
          "height": 703
        },
        "id": "-DcU_YudOkE7",
        "outputId": "cd35be55-37e0-4179-b2cf-2eab9a07750c"
      },
      "execution_count": 34,
      "outputs": [
        {
          "output_type": "stream",
          "name": "stdout",
          "text": [
            "Accuracy: 0.9983\n",
            "Precision: 1.0000\n",
            "Recall: 0.3814\n",
            "F1 Score: 0.5522\n",
            "Confusion Matrix:\n",
            "[[1469689       0]\n",
            " [   2525    1557]]\n"
          ]
        },
        {
          "output_type": "display_data",
          "data": {
            "text/plain": [
              "<Figure size 800x600 with 2 Axes>"
            ],
            "image/png": "[encoded data removed]"
          },
          "metadata": {}
        },
        {
          "output_type": "stream",
          "name": "stdout",
          "text": [
            "Execution Time: 6.4833 seconds\n"
          ]
        }
      ]
    },
    {
      "cell_type": "code",
      "source": [
        "import numpy as np\n",
        "import pandas as pd\n",
        "\n",
        "# Function to make a prediction for a given user and product using NMF\n",
        "def predict_rating(user_id, product_id, W, H):\n",
        "    # Convert userId and productId to their respective indices\n",
        "    user_index = int(df_spark.filter(df_spark.userId == user_id).select(\"userIndex\").first()[0])\n",
        "    product_index = int(df_spark.filter(df_spark.productId == product_id).select(\"productIndex\").first()[0])\n",
        "\n",
        "    # Get the corresponding row from the W matrix for the user and column from the H matrix for the product\n",
        "    user_vector = W[user_index]  # User's latent features (from W matrix)\n",
        "    product_vector = H[:, product_index]  # Product's latent features (from H matrix)\n",
        "\n",
        "    # Calculate the predicted rating as the dot product of the user's and product's latent vectors\n",
        "    predicted_rating = np.dot(user_vector, product_vector)\n",
        "\n",
        "    # Clip the predicted rating to be between 1 and 5 (to match the rating scale)\n",
        "    predicted_rating_clipped = np.clip(predicted_rating, 4.5, 5)\n",
        "\n",
        "    # Return the clipped predicted rating\n",
        "    return predicted_rating_clipped\n",
        "\n",
        "# Example Usage: Predict the rating for a specific user and product\n",
        "user_id = \"A3LDPF5FMB782Z\"  # Replace with the user ID you want to predict for\n",
        "product_id = \"1400501520\"    # Replace with the product ID you want to predict for\n",
        "\n",
        "# Assuming W and H are already generated from NMF\n",
        "predicted_rating = predict_rating(user_id, product_id, W, H)\n",
        "print(f\"Predicted rating for user {user_id} and product {product_id}: {predicted_rating:.4f}\")\n"
      ],
      "metadata": {
        "colab": {
          "base_uri": "https://localhost:8080/"
        },
        "id": "sF0cxXa4OZ8P",
        "outputId": "be3e88d8-1113-461c-af77-1b71d3c37e62"
      },
      "execution_count": 35,
      "outputs": [
        {
          "output_type": "stream",
          "name": "stdout",
          "text": [
            "Predicted rating for user A3LDPF5FMB782Z and product 1400501520: 4.5000\n"
          ]
        }
      ]
    },
    {
      "cell_type": "code",
      "source": [],
      "metadata": {
        "id": "cp09ZQl6Oy4d"
      },
      "execution_count": null,
      "outputs": []
    },
    {
      "cell_type": "code",
      "source": [],
      "metadata": {
        "id": "tgXMwsZROy6I"
      },
      "execution_count": null,
      "outputs": []
    },
    {
      "cell_type": "code",
      "source": [],
      "metadata": {
        "id": "cK-Z4gZEOy9l"
      },
      "execution_count": null,
      "outputs": []
    },
    {
      "cell_type": "code",
      "source": [
        "#svd with pyspark\n",
        "import numpy as np\n",
        "import pandas as pd\n",
        "import time\n",
        "from pyspark.ml.feature import StringIndexer\n",
        "from pyspark.ml import Pipeline\n",
        "from sklearn.decomposition import TruncatedSVD\n",
        "from sklearn.metrics import accuracy_score, precision_score, recall_score, f1_score, confusion_matrix\n",
        "import seaborn as sns\n",
        "import matplotlib.pyplot as plt\n",
        "\n",
        "# Step 1: Drop existing userIndex, productIndex, and features if they exist\n",
        "columns_to_drop = [\"userIndex\", \"productIndex\", \"features\"]\n",
        "for col in columns_to_drop:\n",
        "    if col in df_spark.columns:\n",
        "        df_spark = df_spark.drop(col)\n",
        "\n",
        "# Step 2: Index the categorical columns (userId and productId)\n",
        "user_indexer = StringIndexer(inputCol=\"userId\", outputCol=\"userIndex\")\n",
        "product_indexer = StringIndexer(inputCol=\"productId\", outputCol=\"productIndex\")\n",
        "\n",
        "# Step 3: Define a Pipeline to apply transformations\n",
        "pipeline = Pipeline(stages=[user_indexer, product_indexer])\n",
        "df_spark = pipeline.fit(df_spark).transform(df_spark)\n",
        "\n",
        "# Step 4: Create the user-item matrix for SVD\n",
        "user_item_matrix = df_spark.select(\"userIndex\", \"productIndex\", \"rating\").toPandas()\n",
        "user_item_matrix_pivot = user_item_matrix.pivot(index=\"userIndex\", columns=\"productIndex\", values=\"rating\").fillna(0)\n",
        "\n",
        "# Start the timer to measure execution time\n",
        "start_time = time.time()\n",
        "\n",
        "# Step 5: Apply SVD using scikit-learn\n",
        "svd = TruncatedSVD(n_components=3, random_state=1)  # Adjust n_components as needed\n",
        "U = svd.fit_transform(user_item_matrix_pivot)  # Left singular vectors\n",
        "Sigma = svd.singular_values_  # Singular values\n",
        "VT = svd.components_  # Right singular vectors\n",
        "\n",
        "# Step 6: Reconstruct the predicted matrix\n",
        "reconstructed_matrix = np.dot(U, np.dot(np.diag(Sigma), VT))\n",
        "\n",
        "# Step 7: Convert the reconstructed matrix back to a DataFrame\n",
        "predictions_df = pd.DataFrame(reconstructed_matrix, columns=user_item_matrix_pivot.columns)\n",
        "\n",
        "# Step 8: Convert predictions to binary (threshold 3 and above as positive)\n",
        "threshold = 3\n",
        "y_pred_binary = (predictions_df >= threshold).astype(int)\n",
        "\n",
        "# Step 9: Prepare the actual ratings for comparison (considering threshold for binary)\n",
        "y_test_binary = (user_item_matrix_pivot >= threshold).astype(int)\n",
        "\n",
        "# Step 10: Calculate evaluation metrics\n",
        "accuracy = accuracy_score(y_test_binary.values.flatten(), y_pred_binary.values.flatten())\n",
        "precision = precision_score(y_test_binary.values.flatten(), y_pred_binary.values.flatten(), average=\"binary\")\n",
        "recall = recall_score(y_test_binary.values.flatten(), y_pred_binary.values.flatten(), average=\"binary\")\n",
        "f1 = f1_score(y_test_binary.values.flatten(), y_pred_binary.values.flatten(), average=\"binary\")\n",
        "\n",
        "# Step 11: Print the evaluation metrics\n",
        "print(f\"Accuracy: {accuracy:.4f}\")\n",
        "print(f\"Precision: {precision:.4f}\")\n",
        "print(f\"Recall: {recall:.4f}\")\n",
        "print(f\"F1 Score: {f1:.4f}\")\n",
        "\n",
        "# Step 12: Calculate and print the confusion matrix\n",
        "cm = confusion_matrix(y_test_binary.values.flatten(), y_pred_binary.values.flatten())\n",
        "print(\"Confusion Matrix:\")\n",
        "print(cm)\n",
        "\n",
        "# Step 13: Plot Confusion Matrix as a Heatmap\n",
        "plt.figure(figsize=(8, 6))\n",
        "sns.heatmap(cm, annot=True, fmt='d', cmap=\"Blues\", xticklabels=[\"Negative\", \"Positive\"], yticklabels=[\"Negative\", \"Positive\"])\n",
        "plt.xlabel('Predicted')\n",
        "plt.ylabel('Actual')\n",
        "plt.title('Confusion Matrix Heatmap')\n",
        "plt.show()\n",
        "\n",
        "# End the timer after execution\n",
        "end_time = time.time()\n",
        "\n",
        "# Calculate the total time taken for the execution\n",
        "execution_time = end_time - start_time\n",
        "\n",
        "# Print the execution time\n",
        "print(f\"Total execution time: {execution_time:.4f} seconds\")\n"
      ],
      "metadata": {
        "colab": {
          "base_uri": "https://localhost:8080/",
          "height": 703
        },
        "id": "3Rl-_mW6Owtn",
        "outputId": "d10dd377-1503-48c2-ecb6-a7b2201a70b2"
      },
      "execution_count": 36,
      "outputs": [
        {
          "output_type": "stream",
          "name": "stdout",
          "text": [
            "Accuracy: 0.9960\n",
            "Precision: 0.3227\n",
            "Recall: 0.4187\n",
            "F1 Score: 0.3645\n",
            "Confusion Matrix:\n",
            "[[1466102    3587]\n",
            " [   2373    1709]]\n"
          ]
        },
        {
          "output_type": "display_data",
          "data": {
            "text/plain": [
              "<Figure size 800x600 with 2 Axes>"
            ],
            "image/png": "[encoded data removed]"
          },
          "metadata": {}
        },
        {
          "output_type": "stream",
          "name": "stdout",
          "text": [
            "Total execution time: 5.5214 seconds\n"
          ]
        }
      ]
    },
    {
      "cell_type": "code",
      "source": [
        "import numpy as np\n",
        "\n",
        "# Function to make a prediction for a given user and product using SVD\n",
        "def predict_rating_svd(user_id, product_id, U, Sigma, VT):\n",
        "    # Convert userId and productId to their respective indices\n",
        "    user_index = int(df_spark.filter(df_spark.userId == user_id).select(\"userIndex\").first()[0])\n",
        "    product_index = int(df_spark.filter(df_spark.productId == product_id).select(\"productIndex\").first()[0])\n",
        "\n",
        "    # Get the corresponding row from the U matrix for the user\n",
        "    # Multiply with Sigma and corresponding column from VT for the product\n",
        "    predicted_rating = np.dot(U[user_index], np.dot(np.diag(Sigma), VT[:, product_index]))\n",
        "\n",
        "    # Clip the predicted rating to be between 1 and 5 (to match the rating scale)\n",
        "    predicted_rating_clipped = np.clip(predicted_rating, 1, 5)\n",
        "\n",
        "    # Return the clipped predicted rating\n",
        "    return predicted_rating_clipped\n",
        "\n",
        "# Example Usage: Predict the rating for a specific user and product\n",
        "user_id = \"A3LDPF5FMB782Z\"  # Replace with the user ID you want to predict for\n",
        "product_id = \"1400501520\"    # Replace with the product ID you want to predict for\n",
        "\n",
        "# Assuming U, Sigma, and VT are already generated from SVD\n",
        "predicted_rating = predict_rating_svd(user_id, product_id, U, Sigma, VT)\n",
        "print(f\"Predicted rating for user {user_id} and product {product_id}: {predicted_rating:.4f}\")\n"
      ],
      "metadata": {
        "colab": {
          "base_uri": "https://localhost:8080/"
        },
        "id": "ohPaYdpCOwwG",
        "outputId": "88c61366-37b7-48bb-9a3b-8c55707a41c9"
      },
      "execution_count": 37,
      "outputs": [
        {
          "output_type": "stream",
          "name": "stdout",
          "text": [
            "Predicted rating for user A3LDPF5FMB782Z and product 1400501520: 1.3537\n"
          ]
        }
      ]
    },
    {
      "cell_type": "code",
      "source": [
        "#knnwith peasron\n",
        "import time\n",
        "import pandas as pd\n",
        "from pyspark.ml.feature import StringIndexer\n",
        "from pyspark.ml import Pipeline\n",
        "from sklearn.neighbors import KNeighborsRegressor  # For rating prediction (regression)\n",
        "from sklearn.metrics import accuracy_score, precision_score, recall_score, f1_score, confusion_matrix\n",
        "import seaborn as sns\n",
        "import matplotlib.pyplot as plt\n",
        "from scipy.stats import pearsonr  # For Pearson correlation coefficient\n",
        "\n",
        "# Step 1: Drop the existing columns if they exist\n",
        "df_spark = df_spark.drop(\"userIndex\", \"productIndex\")\n",
        "\n",
        "# Step 2: Index categorical columns (userId and productId)\n",
        "user_indexer = StringIndexer(inputCol=\"userId\", outputCol=\"userIndex\")\n",
        "product_indexer = StringIndexer(inputCol=\"productId\", outputCol=\"productIndex\")\n",
        "\n",
        "# Step 3: Define a Pipeline to apply the transformations\n",
        "pipeline = Pipeline(stages=[user_indexer, product_indexer])\n",
        "\n",
        "# Step 4: Fit and transform the pipeline on the DataFrame\n",
        "df_spark = pipeline.fit(df_spark).transform(df_spark)\n",
        "\n",
        "# Step 5: Check the schema to verify the new columns (userIndex, productIndex) are added\n",
        "df_spark.printSchema()\n",
        "\n",
        "# Step 6: Select features and target (rating)\n",
        "df_features = df_spark.select(\"userIndex\", \"productIndex\", \"rating\")\n",
        "\n",
        "# Step 7: Split data into training and testing sets (80% train, 20% test)\n",
        "train_data, test_data = df_features.randomSplit([0.8, 0.2], seed=1234)\n",
        "\n",
        "# Step 8: Convert to pandas DataFrame for use with scikit-learn\n",
        "train_pd = train_data.toPandas()\n",
        "X_train = train_pd[[\"userIndex\", \"productIndex\"]]\n",
        "y_train = train_pd[\"rating\"]\n",
        "\n",
        "# Step 9: Initialize KNN Regressor (for rating prediction)\n",
        "knn = KNeighborsRegressor(n_neighbors=5)\n",
        "\n",
        "# Step 10: Train the model\n",
        "knn.fit(X_train, y_train)\n",
        "\n",
        "# Step 11: Evaluate the model on the test set\n",
        "test_pd = test_data.toPandas()\n",
        "X_test = test_pd[[\"userIndex\", \"productIndex\"]]\n",
        "y_test = test_pd[\"rating\"]\n",
        "\n",
        "# Start the timer to measure execution time\n",
        "start_time = time.time()\n",
        "\n",
        "# Step 12: Make predictions\n",
        "y_pred = knn.predict(X_test)\n",
        "\n",
        "# Step 13: Convert predictions and actuals to binary for classification metrics\n",
        "threshold = 3  # Ratings >= 3 as positive (1), < 3 as negative (0)\n",
        "y_pred_binary = [1 if rating >= threshold else 0 for rating in y_pred]\n",
        "y_test_binary = [1 if rating >= threshold else 0 for rating in y_test]\n",
        "\n",
        "# Step 14: Calculate Accuracy, Precision, Recall, F1 Score\n",
        "accuracy = accuracy_score(y_test_binary, y_pred_binary)\n",
        "precision = precision_score(y_test_binary, y_pred_binary, zero_division=0)\n",
        "recall = recall_score(y_test_binary, y_pred_binary, zero_division=0)\n",
        "f1 = f1_score(y_test_binary, y_pred_binary, zero_division=0)\n",
        "\n",
        "# Step 15: Print the classification metrics\n",
        "print(f\"Accuracy: {accuracy:.4f}\")\n",
        "print(f\"Precision: {precision:.4f}\")\n",
        "print(f\"Recall: {recall:.4f}\")\n",
        "print(f\"F1 Score: {f1:.4f}\")\n",
        "\n",
        "# Step 16: Calculate and print the confusion matrix\n",
        "cm = confusion_matrix(y_test_binary, y_pred_binary)\n",
        "print(\"Confusion Matrix:\")\n",
        "print(cm)\n",
        "\n",
        "# Plot Confusion Matrix as a Heatmap\n",
        "plt.figure(figsize=(8, 6))\n",
        "sns.heatmap(cm, annot=True, fmt='d', cmap=\"Blues\", xticklabels=[\"Negative\", \"Positive\"], yticklabels=[\"Negative\", \"Positive\"])\n",
        "plt.xlabel('Predicted')\n",
        "plt.ylabel('Actual')\n",
        "plt.title('Confusion Matrix Heatmap')\n",
        "plt.show()\n",
        "\n",
        "# Step 17: Calculate the Pearson Correlation Coefficient\n",
        "pearson_corr, _ = pearsonr(y_test, y_pred)\n",
        "print(f\"Pearson Correlation Coefficient: {pearson_corr:.4f}\")\n",
        "\n",
        "# End the timer after execution\n",
        "end_time = time.time()\n",
        "\n",
        "# Calculate the total time taken for the execution\n",
        "execution_time = end_time - start_time\n",
        "\n",
        "# Print the execution time\n",
        "print(f\"Total execution time: {execution_time:.4f} seconds\")\n"
      ],
      "metadata": {
        "colab": {
          "base_uri": "https://localhost:8080/",
          "height": 859
        },
        "id": "parbYMnQOwy6",
        "outputId": "d210fed9-296a-422c-983a-e2a47250d1a0"
      },
      "execution_count": 38,
      "outputs": [
        {
          "output_type": "stream",
          "name": "stdout",
          "text": [
            "root\n",
            " |-- userId: string (nullable = true)\n",
            " |-- productId: string (nullable = true)\n",
            " |-- rating: double (nullable = true)\n",
            " |-- timestamp: long (nullable = true)\n",
            " |-- userIndex: double (nullable = false)\n",
            " |-- productIndex: double (nullable = false)\n",
            "\n",
            "Accuracy: 0.7684\n",
            "Precision: 0.8121\n",
            "Recall: 0.9284\n",
            "F1 Score: 0.8663\n",
            "Confusion Matrix:\n",
            "[[ 17 168]\n",
            " [ 56 726]]\n"
          ]
        },
        {
          "output_type": "display_data",
          "data": {
            "text/plain": [
              "<Figure size 800x600 with 2 Axes>"
            ],
            "image/png": "[encoded data removed]"
          },
          "metadata": {}
        },
        {
          "output_type": "stream",
          "name": "stdout",
          "text": [
            "Pearson Correlation Coefficient: 0.0048\n",
            "Total execution time: 0.7861 seconds\n"
          ]
        }
      ]
    },
    {
      "cell_type": "code",
      "source": [
        "import numpy as np\n",
        "from sklearn.neighbors import KNeighborsRegressor\n",
        "import pandas as pd\n",
        "\n",
        "# Function to make a prediction for a given user and product using KNN\n",
        "def predict_rating_knn(user_id, product_id, knn_model, df_spark):\n",
        "    # Convert userId and productId to their respective indices\n",
        "    user_index = int(df_spark.filter(df_spark.userId == user_id).select(\"userIndex\").first()[0])\n",
        "    product_index = int(df_spark.filter(df_spark.productId == product_id).select(\"productIndex\").first()[0])\n",
        "\n",
        "    # Prepare the feature vector (userIndex, productIndex) for prediction\n",
        "    feature_vector = np.array([[user_index, product_index]])\n",
        "\n",
        "    # Predict the rating using the KNN model\n",
        "    predicted_rating = knn_model.predict(feature_vector)[0]\n",
        "\n",
        "    # Clip the predicted rating to be between 1 and 5 (to match the rating scale)\n",
        "    predicted_rating_clipped = np.clip(predicted_rating, 1, 5)\n",
        "\n",
        "    # Return the clipped predicted rating\n",
        "    return predicted_rating_clipped\n",
        "\n",
        "# Example Usage: Predict the rating for a specific user and product\n",
        "user_id = \"A3LDPF5FMB782Z\"  # Replace with the user ID you want to predict for\n",
        "product_id = \"1400501520\"    # Replace with the product ID you want to predict for\n",
        "\n",
        "# Assuming knn_model has already been trained\n",
        "predicted_rating = predict_rating_knn(user_id, product_id, knn, df_spark)\n",
        "print(f\"Predicted rating for user {user_id} and product {product_id}: {predicted_rating:.4f}\")\n"
      ],
      "metadata": {
        "colab": {
          "base_uri": "https://localhost:8080/"
        },
        "id": "3_NdAqQAOw0e",
        "outputId": "4995a9d0-33ad-4ffd-baf4-29623feebf9b"
      },
      "execution_count": 39,
      "outputs": [
        {
          "output_type": "stream",
          "name": "stdout",
          "text": [
            "Predicted rating for user A3LDPF5FMB782Z and product 1400501520: 4.0000\n"
          ]
        },
        {
          "output_type": "stream",
          "name": "stderr",
          "text": [
            "/usr/local/lib/python3.10/dist-packages/sklearn/base.py:493: UserWarning: X does not have valid feature names, but KNeighborsRegressor was fitted with feature names\n",
            "  warnings.warn(\n"
          ]
        }
      ]
    },
    {
      "cell_type": "code",
      "source": [],
      "metadata": {
        "id": "Yz-v9uWGRB9u"
      },
      "execution_count": null,
      "outputs": []
    },
    {
      "cell_type": "code",
      "source": [],
      "metadata": {
        "id": "RhAuuPmuOw2e"
      },
      "execution_count": null,
      "outputs": []
    },
    {
      "cell_type": "code",
      "source": [
        "#svd++\n",
        "import numpy as np\n",
        "import pandas as pd\n",
        "import time\n",
        "from pyspark.ml.feature import StringIndexer\n",
        "from pyspark.ml import Pipeline\n",
        "from sklearn.decomposition import TruncatedSVD\n",
        "from sklearn.metrics import accuracy_score, precision_score, recall_score, f1_score, confusion_matrix\n",
        "import seaborn as sns\n",
        "import matplotlib.pyplot as plt\n",
        "\n",
        "# Step 1: Drop existing userIndex, productIndex, and features if they exist\n",
        "columns_to_drop = [\"userIndex\", \"productIndex\", \"features\"]\n",
        "for col in columns_to_drop:\n",
        "    if col in df_spark.columns:\n",
        "        df_spark = df_spark.drop(col)\n",
        "\n",
        "# Step 2: Index the categorical columns (userId and productId)\n",
        "user_indexer = StringIndexer(inputCol=\"userId\", outputCol=\"userIndex\")\n",
        "product_indexer = StringIndexer(inputCol=\"productId\", outputCol=\"productIndex\")\n",
        "\n",
        "# Step 3: Define a Pipeline to apply transformations\n",
        "pipeline = Pipeline(stages=[user_indexer, product_indexer])\n",
        "df_spark = pipeline.fit(df_spark).transform(df_spark)\n",
        "\n",
        "# Step 4: Create the user-item matrix for SVD\n",
        "user_item_matrix = df_spark.select(\"userIndex\", \"productIndex\", \"rating\").toPandas()\n",
        "user_item_matrix_pivot = user_item_matrix.pivot(index=\"userIndex\", columns=\"productIndex\", values=\"rating\").fillna(0)\n",
        "\n",
        "# Start the timer to measure execution time\n",
        "start_time = time.time()\n",
        "\n",
        "# Step 5: Apply SVD using scikit-learn\n",
        "svd = TruncatedSVD(n_components=3, random_state=1)  # Adjust n_components as needed\n",
        "U = svd.fit_transform(user_item_matrix_pivot)  # Left singular vectors\n",
        "Sigma = svd.singular_values_  # Singular values\n",
        "VT = svd.components_  # Right singular vectors\n",
        "\n",
        "# Step 6: Reconstruct the predicted matrix\n",
        "reconstructed_matrix = np.dot(U, np.dot(np.diag(Sigma), VT))\n",
        "\n",
        "# Step 7: Convert the reconstructed matrix back to a DataFrame\n",
        "predictions_df = pd.DataFrame(reconstructed_matrix, columns=user_item_matrix_pivot.columns)\n",
        "\n",
        "# Step 8: Convert predictions to binary (threshold 3 and above as positive)\n",
        "threshold = 3\n",
        "y_pred_binary = (predictions_df >= threshold).astype(int)\n",
        "\n",
        "# Step 9: Prepare the actual ratings for comparison (considering threshold for binary)\n",
        "y_test_binary = (user_item_matrix_pivot >= threshold).astype(int)\n",
        "\n",
        "# Step 10: Calculate evaluation metrics\n",
        "accuracy = accuracy_score(y_test_binary.values.flatten(), y_pred_binary.values.flatten())\n",
        "precision = precision_score(y_test_binary.values.flatten(), y_pred_binary.values.flatten(), average=\"binary\")\n",
        "recall = recall_score(y_test_binary.values.flatten(), y_pred_binary.values.flatten(), average=\"binary\")\n",
        "f1 = f1_score(y_test_binary.values.flatten(), y_pred_binary.values.flatten(), average=\"binary\")\n",
        "\n",
        "# Step 11: Print the evaluation metrics\n",
        "print(f\"Accuracy: {accuracy:.4f}\")\n",
        "print(f\"Precision: {precision:.4f}\")\n",
        "print(f\"Recall: {recall:.4f}\")\n",
        "print(f\"F1 Score: {f1:.4f}\")\n",
        "\n",
        "# Step 12: Calculate and print the confusion matrix\n",
        "cm = confusion_matrix(y_test_binary.values.flatten(), y_pred_binary.values.flatten())\n",
        "print(\"Confusion Matrix:\")\n",
        "print(cm)\n",
        "\n",
        "# Step 13: Plot Confusion Matrix as a Heatmap\n",
        "plt.figure(figsize=(8, 6))\n",
        "sns.heatmap(cm, annot=True, fmt='d', cmap=\"Blues\", xticklabels=[\"Negative\", \"Positive\"], yticklabels=[\"Negative\", \"Positive\"])\n",
        "plt.xlabel('Predicted')\n",
        "plt.ylabel('Actual')\n",
        "plt.title('Confusion Matrix Heatmap')\n",
        "plt.show()\n",
        "\n",
        "# Step 14: Visualization of SVD components\n",
        "plt.figure(figsize=(10, 6))\n",
        "plt.plot(svd.singular_values_, marker='o')\n",
        "plt.title('Singular Values from SVD')\n",
        "plt.xlabel('Component Index')\n",
        "plt.ylabel('Singular Value')\n",
        "plt.grid(True)\n",
        "plt.show()\n",
        "\n",
        "# End the timer after execution\n",
        "end_time = time.time()\n",
        "\n",
        "# Calculate the total time taken for the execution\n",
        "execution_time = end_time - start_time\n",
        "\n",
        "# Print the execution time\n",
        "print(f\"Total execution time: {execution_time:.4f} seconds\")\n"
      ],
      "metadata": {
        "colab": {
          "base_uri": "https://localhost:8080/",
          "height": 1000
        },
        "id": "k1w2if4HOw50",
        "outputId": "a3d906ef-b39e-462b-8a72-91cb21ba55fc"
      },
      "execution_count": 40,
      "outputs": [
        {
          "output_type": "stream",
          "name": "stdout",
          "text": [
            "Accuracy: 0.9960\n",
            "Precision: 0.3227\n",
            "Recall: 0.4187\n",
            "F1 Score: 0.3645\n",
            "Confusion Matrix:\n",
            "[[1466102    3587]\n",
            " [   2373    1709]]\n"
          ]
        },
        {
          "output_type": "display_data",
          "data": {
            "text/plain": [
              "<Figure size 800x600 with 2 Axes>"
            ],
            "image/png": "[encoded data removed]"
          },
          "metadata": {}
        },
        {
          "output_type": "display_data",
          "data": {
            "text/plain": [
              "<Figure size 1000x600 with 1 Axes>"
            ],
            "image/png": "[encoded data removed]"
          },
          "metadata": {}
        },
        {
          "output_type": "stream",
          "name": "stdout",
          "text": [
            "Total execution time: 5.2953 seconds\n"
          ]
        }
      ]
    },
    {
      "cell_type": "code",
      "source": [],
      "metadata": {
        "id": "V03Z15s1RPjG"
      },
      "execution_count": null,
      "outputs": []
    },
    {
      "cell_type": "code",
      "source": [
        "import numpy as np\n",
        "from sklearn.neighbors import KNeighborsRegressor\n",
        "import pandas as pd\n",
        "\n",
        "# Function to make a prediction for a given user and product using KNN\n",
        "def predict_rating_knn(user_id, product_id, knn_model, df_spark):\n",
        "    # Convert userId and productId to their respective indices\n",
        "    user_index = int(df_spark.filter(df_spark.userId == user_id).select(\"userIndex\").first()[0])\n",
        "    product_index = int(df_spark.filter(df_spark.productId == product_id).select(\"productIndex\").first()[0])\n",
        "\n",
        "    # Prepare the feature vector (userIndex, productIndex) for prediction\n",
        "    feature_vector = np.array([[user_index, product_index]])\n",
        "\n",
        "    # Predict the rating using the KNN model\n",
        "    predicted_rating = knn_model.predict(feature_vector)[0]\n",
        "\n",
        "    # Clip the predicted rating to be between 1 and 5 (to match the rating scale)\n",
        "    predicted_rating_clipped = np.clip(predicted_rating, 1, 5)\n",
        "\n",
        "    # Return the clipped predicted rating\n",
        "    return predicted_rating_clipped\n",
        "\n",
        "# Example Usage: Predict the rating for a specific user and product\n",
        "user_id = \"A3LDPF5FMB782Z\"  # Replace with the user ID you want to predict for\n",
        "product_id = \"1400501520\"    # Replace with the product ID you want to predict for\n",
        "\n",
        "# Assuming knn_model has already been trained, we use the following for illustration\n",
        "# Prepare data for fitting KNN model\n",
        "user_item_matrix = df_spark.select(\"userIndex\", \"productIndex\", \"rating\").toPandas()\n",
        "X_train = user_item_matrix[[\"userIndex\", \"productIndex\"]].values\n",
        "y_train = user_item_matrix[\"rating\"].values\n",
        "\n",
        "# Train KNN model\n",
        "knn = KNeighborsRegressor(n_neighbors=5)  # Example with 5 neighbors\n",
        "knn.fit(X_train, y_train)\n",
        "\n",
        "# Predict rating for a specific user-product pair\n",
        "predicted_rating = predict_rating_knn(user_id, product_id, knn, df_spark)\n",
        "print(f\"Predicted rating for user {user_id} and product {product_id}: {predicted_rating:.4f}\")\n"
      ],
      "metadata": {
        "colab": {
          "base_uri": "https://localhost:8080/"
        },
        "id": "jn5UNY1sRPxc",
        "outputId": "e1204706-6c7f-40db-aa15-b29b8ee7c832"
      },
      "execution_count": 41,
      "outputs": [
        {
          "output_type": "stream",
          "name": "stdout",
          "text": [
            "Predicted rating for user A3LDPF5FMB782Z and product 1400501520: 4.8000\n"
          ]
        }
      ]
    }
  ]
}